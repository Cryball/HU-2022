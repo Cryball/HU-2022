{
  "nbformat": 4,
  "nbformat_minor": 0,
  "metadata": {
    "colab": {
      "name": "HU 2022 Task 2.ipynb",
      "provenance": []
    },
    "kernelspec": {
      "name": "python3",
      "display_name": "Python 3"
    },
    "language_info": {
      "name": "python"
    }
  },
  "cells": [
    {
      "cell_type": "code",
      "execution_count": 1,
      "metadata": {
        "colab": {
          "base_uri": "https://localhost:8080/",
          "height": 627
        },
        "id": "x4mex1uyB3KV",
        "outputId": "f40f74f8-6a7d-4432-c87b-b730e8660fa6"
      },
      "outputs": [
        {
          "output_type": "stream",
          "name": "stdout",
          "text": [
            "Collecting mindspore\n",
            "  Downloading mindspore-1.7.0-cp37-cp37m-manylinux1_x86_64.whl (111.4 MB)\n",
            "\u001b[K     |████████████████████████████████| 111.4 MB 2.4 kB/s \n",
            "\u001b[?25hCollecting psutil>=5.6.1\n",
            "  Downloading psutil-5.9.0-cp37-cp37m-manylinux_2_12_x86_64.manylinux2010_x86_64.manylinux_2_17_x86_64.manylinux2014_x86_64.whl (280 kB)\n",
            "\u001b[K     |████████████████████████████████| 280 kB 65.0 MB/s \n",
            "\u001b[?25hRequirement already satisfied: packaging>=20.0 in /usr/local/lib/python3.7/dist-packages (from mindspore) (21.3)\n",
            "Requirement already satisfied: pillow>=6.2.0 in /usr/local/lib/python3.7/dist-packages (from mindspore) (7.1.2)\n",
            "Requirement already satisfied: protobuf>=3.13.0 in /usr/local/lib/python3.7/dist-packages (from mindspore) (3.17.3)\n",
            "Requirement already satisfied: numpy>=1.17.0 in /usr/local/lib/python3.7/dist-packages (from mindspore) (1.21.6)\n",
            "Collecting scipy>=1.5.2\n",
            "  Downloading scipy-1.7.3-cp37-cp37m-manylinux_2_12_x86_64.manylinux2010_x86_64.whl (38.1 MB)\n",
            "\u001b[K     |████████████████████████████████| 38.1 MB 119.9 MB/s \n",
            "\u001b[?25hCollecting asttokens>=2.0.0\n",
            "  Downloading asttokens-2.0.5-py2.py3-none-any.whl (20 kB)\n",
            "Requirement already satisfied: six in /usr/local/lib/python3.7/dist-packages (from asttokens>=2.0.0->mindspore) (1.15.0)\n",
            "Requirement already satisfied: pyparsing!=3.0.5,>=2.0.2 in /usr/local/lib/python3.7/dist-packages (from packaging>=20.0->mindspore) (3.0.8)\n",
            "Installing collected packages: scipy, psutil, asttokens, mindspore\n",
            "  Attempting uninstall: scipy\n",
            "    Found existing installation: scipy 1.4.1\n",
            "    Uninstalling scipy-1.4.1:\n",
            "      Successfully uninstalled scipy-1.4.1\n",
            "  Attempting uninstall: psutil\n",
            "    Found existing installation: psutil 5.4.8\n",
            "    Uninstalling psutil-5.4.8:\n",
            "      Successfully uninstalled psutil-5.4.8\n",
            "\u001b[31mERROR: pip's dependency resolver does not currently take into account all the packages that are installed. This behaviour is the source of the following dependency conflicts.\n",
            "albumentations 0.1.12 requires imgaug<0.2.7,>=0.2.5, but you have imgaug 0.2.9 which is incompatible.\u001b[0m\n",
            "Successfully installed asttokens-2.0.5 mindspore-1.7.0 psutil-5.9.0 scipy-1.7.3\n"
          ]
        },
        {
          "output_type": "display_data",
          "data": {
            "application/vnd.colab-display-data+json": {
              "pip_warning": {
                "packages": [
                  "psutil"
                ]
              }
            }
          },
          "metadata": {}
        }
      ],
      "source": [
        "!pip install mindspore"
      ]
    },
    {
      "cell_type": "code",
      "source": [
        "! pip install mindinsight"
      ],
      "metadata": {
        "colab": {
          "base_uri": "https://localhost:8080/"
        },
        "id": "SwiNlOSzCgCH",
        "outputId": "f899746f-1837-4ce1-985a-0ee0569de050"
      },
      "execution_count": 2,
      "outputs": [
        {
          "output_type": "stream",
          "name": "stdout",
          "text": [
            "Collecting mindinsight\n",
            "  Downloading mindinsight-1.7.0-py3-none-any.whl (6.7 MB)\n",
            "\u001b[K     |████████████████████████████████| 6.7 MB 7.8 MB/s \n",
            "\u001b[?25hRequirement already satisfied: itsdangerous>=1.1.0 in /usr/local/lib/python3.7/dist-packages (from mindinsight) (1.1.0)\n",
            "Collecting pyyaml>=5.3.1\n",
            "  Downloading PyYAML-6.0-cp37-cp37m-manylinux_2_5_x86_64.manylinux1_x86_64.manylinux_2_12_x86_64.manylinux2010_x86_64.whl (596 kB)\n",
            "\u001b[K     |████████████████████████████████| 596 kB 53.5 MB/s \n",
            "\u001b[?25hRequirement already satisfied: psutil>=5.7.0 in /usr/local/lib/python3.7/dist-packages (from mindinsight) (5.9.0)\n",
            "Requirement already satisfied: protobuf>=3.13.0 in /usr/local/lib/python3.7/dist-packages (from mindinsight) (3.17.3)\n",
            "Collecting XlsxWriter>=1.3.2\n",
            "  Downloading XlsxWriter-3.0.3-py3-none-any.whl (149 kB)\n",
            "\u001b[K     |████████████████████████████████| 149 kB 56.9 MB/s \n",
            "\u001b[?25hRequirement already satisfied: pillow>=6.2.0 in /usr/local/lib/python3.7/dist-packages (from mindinsight) (7.1.2)\n",
            "Requirement already satisfied: Jinja2>=2.10.1 in /usr/local/lib/python3.7/dist-packages (from mindinsight) (2.11.3)\n",
            "Requirement already satisfied: Flask>=1.1.1 in /usr/local/lib/python3.7/dist-packages (from mindinsight) (1.1.4)\n",
            "Collecting marshmallow>=3.10.0\n",
            "  Downloading marshmallow-3.15.0-py3-none-any.whl (47 kB)\n",
            "\u001b[K     |████████████████████████████████| 47 kB 4.8 MB/s \n",
            "\u001b[?25hRequirement already satisfied: numpy>=1.17.0 in /usr/local/lib/python3.7/dist-packages (from mindinsight) (1.21.6)\n",
            "Requirement already satisfied: scikit-learn>=0.23.1 in /usr/local/lib/python3.7/dist-packages (from mindinsight) (1.0.2)\n",
            "Requirement already satisfied: grpcio>=1.36.1 in /usr/local/lib/python3.7/dist-packages (from mindinsight) (1.44.0)\n",
            "Collecting gunicorn>=20.0.4\n",
            "  Downloading gunicorn-20.1.0-py3-none-any.whl (79 kB)\n",
            "\u001b[K     |████████████████████████████████| 79 kB 7.8 MB/s \n",
            "\u001b[?25hRequirement already satisfied: scipy>=1.5.2 in /usr/local/lib/python3.7/dist-packages (from mindinsight) (1.7.3)\n",
            "Collecting yapf>=0.30.0\n",
            "  Downloading yapf-0.32.0-py2.py3-none-any.whl (190 kB)\n",
            "\u001b[K     |████████████████████████████████| 190 kB 59.3 MB/s \n",
            "\u001b[?25hRequirement already satisfied: MarkupSafe>=1.1.1 in /usr/local/lib/python3.7/dist-packages (from mindinsight) (2.0.1)\n",
            "Requirement already satisfied: google-pasta>=0.1.8 in /usr/local/lib/python3.7/dist-packages (from mindinsight) (0.2.0)\n",
            "Requirement already satisfied: pandas>=1.0.4 in /usr/local/lib/python3.7/dist-packages (from mindinsight) (1.3.5)\n",
            "Requirement already satisfied: Werkzeug>=1.0.0 in /usr/local/lib/python3.7/dist-packages (from mindinsight) (1.0.1)\n",
            "Collecting treelib>=1.6.1\n",
            "  Downloading treelib-1.6.1.tar.gz (24 kB)\n",
            "Requirement already satisfied: click<8.0,>=5.1 in /usr/local/lib/python3.7/dist-packages (from Flask>=1.1.1->mindinsight) (7.1.2)\n",
            "Requirement already satisfied: six in /usr/local/lib/python3.7/dist-packages (from google-pasta>=0.1.8->mindinsight) (1.15.0)\n",
            "Requirement already satisfied: setuptools>=3.0 in /usr/local/lib/python3.7/dist-packages (from gunicorn>=20.0.4->mindinsight) (57.4.0)\n",
            "Requirement already satisfied: packaging in /usr/local/lib/python3.7/dist-packages (from marshmallow>=3.10.0->mindinsight) (21.3)\n",
            "Requirement already satisfied: python-dateutil>=2.7.3 in /usr/local/lib/python3.7/dist-packages (from pandas>=1.0.4->mindinsight) (2.8.2)\n",
            "Requirement already satisfied: pytz>=2017.3 in /usr/local/lib/python3.7/dist-packages (from pandas>=1.0.4->mindinsight) (2022.1)\n",
            "Requirement already satisfied: threadpoolctl>=2.0.0 in /usr/local/lib/python3.7/dist-packages (from scikit-learn>=0.23.1->mindinsight) (3.1.0)\n",
            "Requirement already satisfied: joblib>=0.11 in /usr/local/lib/python3.7/dist-packages (from scikit-learn>=0.23.1->mindinsight) (1.1.0)\n",
            "Requirement already satisfied: future in /usr/local/lib/python3.7/dist-packages (from treelib>=1.6.1->mindinsight) (0.16.0)\n",
            "Requirement already satisfied: pyparsing!=3.0.5,>=2.0.2 in /usr/local/lib/python3.7/dist-packages (from packaging->marshmallow>=3.10.0->mindinsight) (3.0.8)\n",
            "Building wheels for collected packages: treelib\n",
            "  Building wheel for treelib (setup.py) ... \u001b[?25l\u001b[?25hdone\n",
            "  Created wheel for treelib: filename=treelib-1.6.1-py3-none-any.whl size=18385 sha256=db43b169d3f9f970d966ecaea0ef410f4ad97ee77e3417047be7b6187e45b706\n",
            "  Stored in directory: /root/.cache/pip/wheels/89/be/94/2c6d949ce599d1443426d83ba4dc93cd35c0f4638260930a53\n",
            "Successfully built treelib\n",
            "Installing collected packages: yapf, XlsxWriter, treelib, pyyaml, marshmallow, gunicorn, mindinsight\n",
            "  Attempting uninstall: pyyaml\n",
            "    Found existing installation: PyYAML 3.13\n",
            "    Uninstalling PyYAML-3.13:\n",
            "      Successfully uninstalled PyYAML-3.13\n",
            "Successfully installed XlsxWriter-3.0.3 gunicorn-20.1.0 marshmallow-3.15.0 mindinsight-1.7.0 pyyaml-6.0 treelib-1.6.1 yapf-0.32.0\n"
          ]
        }
      ]
    },
    {
      "cell_type": "code",
      "source": [
        "from mindspore import context\n",
        "\n",
        "context.set_context(mode=context.GRAPH_MODE, device_target=\"CPU\")"
      ],
      "metadata": {
        "id": "MT6kR84BCoEj"
      },
      "execution_count": 3,
      "outputs": []
    },
    {
      "cell_type": "code",
      "source": [
        "import numpy as np\n",
        "\n",
        "def get_data(num, w=2.0, b=3.0):\n",
        "    for _ in range(num):\n",
        "        x = np.random.uniform(-10.0, 10.0)\n",
        "        noise = np.random.normal(0, 1)\n",
        "        y = x * w + b + noise\n",
        "        yield np.array([x]).astype(np.float32), np.array([y]).astype(np.float32)"
      ],
      "metadata": {
        "id": "pdlAARkrCuTO"
      },
      "execution_count": 4,
      "outputs": []
    },
    {
      "cell_type": "code",
      "source": [
        "import matplotlib.pyplot as plt\n",
        "\n",
        "eval_data = list(get_data(50))\n",
        "x_target_label = np.array([-10, 10, 0.1])\n",
        "y_target_label = x_target_label * 2 + 3\n",
        "x_eval_label, y_eval_label = zip(*eval_data)\n",
        "\n",
        "plt.scatter(x_eval_label, y_eval_label, color=\"red\", s=5)\n",
        "plt.plot(x_target_label, y_target_label, color=\"green\")\n",
        "plt.title(\"Eval data\")\n",
        "plt.show()"
      ],
      "metadata": {
        "colab": {
          "base_uri": "https://localhost:8080/",
          "height": 281
        },
        "id": "-uV30UcFCzaW",
        "outputId": "500656be-502c-4718-ef96-e0db1821b066"
      },
      "execution_count": 7,
      "outputs": [
        {
          "output_type": "display_data",
          "data": {
            "text/plain": [
              "<Figure size 432x288 with 1 Axes>"
            ],
            "image/png": "[encoded data removed]"
          },
          "metadata": {
            "needs_background": "light"
          }
        }
      ]
    },
    {
      "cell_type": "code",
      "source": [
        "from mindspore import dataset as ds\n",
        "\n",
        "def create_dataset(num_data, batch_size=16, repeat_size=1):\n",
        "    input_data = ds.GeneratorDataset(list(get_data(num_data)), column_names=['data', 'label'])\n",
        "    input_data = input_data.batch(batch_size)\n",
        "    input_data = input_data.repeat(repeat_size)\n",
        "    return input_data"
      ],
      "metadata": {
        "id": "OYiiPKHjC1ac"
      },
      "execution_count": 8,
      "outputs": []
    },
    {
      "cell_type": "code",
      "source": [
        "data_number = 1600\n",
        "batch_number = 16\n",
        "repeat_number = 1\n",
        "\n",
        "ds_train = create_dataset(data_number, batch_size=batch_number, repeat_size=repeat_number)\n",
        "print(\"The dataset size of ds_train:\", ds_train.get_dataset_size())\n",
        "dict_datasets = next(ds_train.create_dict_iterator())\n",
        "\n",
        "print(dict_datasets.keys())\n",
        "print(\"The x label value shape:\", dict_datasets[\"data\"].shape)\n",
        "print(\"The y label value shape:\", dict_datasets[\"label\"].shape)"
      ],
      "metadata": {
        "colab": {
          "base_uri": "https://localhost:8080/"
        },
        "id": "ISbmQc3pDBRL",
        "outputId": "0cc28d0c-230e-4d8d-ad78-b9fa3006a72e"
      },
      "execution_count": 9,
      "outputs": [
        {
          "output_type": "stream",
          "name": "stdout",
          "text": [
            "The dataset size of ds_train: 100\n",
            "dict_keys(['data', 'label'])\n",
            "The x label value shape: (16, 1)\n",
            "The y label value shape: (16, 1)\n"
          ]
        }
      ]
    },
    {
      "cell_type": "code",
      "source": [
        "from mindspore.common.initializer import Normal\n",
        "from mindspore import nn\n",
        "from mindspore.ops import TensorSummary\n",
        "\n",
        "class LinearNet(nn.Cell):\n",
        "    def __init__(self):\n",
        "        super(LinearNet, self).__init__()\n",
        "        self.fc = nn.Dense(1, 1, Normal(0.02), Normal(0.02))\n",
        "        self.tensor_summary = TensorSummary()\n",
        "\n",
        "    def construct(self, x):\n",
        "        x = self.fc(x)\n",
        "        self.tensor_summary(\"tensor\", x)\n",
        "        return x"
      ],
      "metadata": {
        "id": "014_CWg9DGOm"
      },
      "execution_count": 10,
      "outputs": []
    },
    {
      "cell_type": "code",
      "source": [
        "net = LinearNet()\n",
        "model_params = net.trainable_params()\n",
        "for param in model_params:\n",
        "    print(param, param.asnumpy())"
      ],
      "metadata": {
        "colab": {
          "base_uri": "https://localhost:8080/"
        },
        "id": "8EWy_NzxDIlV",
        "outputId": "f9ac81ce-e447-4483-e4f7-f1f39e13894d"
      },
      "execution_count": 11,
      "outputs": [
        {
          "output_type": "stream",
          "name": "stdout",
          "text": [
            "Parameter (name=fc.weight, shape=(1, 1), dtype=Float32, requires_grad=True) [[-0.00222172]]\n",
            "Parameter (name=fc.bias, shape=(1,), dtype=Float32, requires_grad=True) [-0.00179839]\n"
          ]
        }
      ]
    },
    {
      "cell_type": "code",
      "source": [
        "from mindspore import Tensor\n",
        "\n",
        "x_model_label = np.array([-10, 10, 0.1])\n",
        "y_model_label = (x_model_label * Tensor(model_params[0]).asnumpy()[0][0] +\n",
        "                 Tensor(model_params[1]).asnumpy()[0])\n",
        "plt.axis([-10, 10, -20, 25])\n",
        "plt.scatter(x_eval_label, y_eval_label, color=\"red\", s=5)\n",
        "plt.plot(x_model_label, y_model_label, color=\"blue\")\n",
        "plt.plot(x_target_label, y_target_label, color=\"green\")\n",
        "plt.show()"
      ],
      "metadata": {
        "colab": {
          "base_uri": "https://localhost:8080/",
          "height": 269
        },
        "id": "BYgbdzgDDKko",
        "outputId": "c4048549-82c2-4d79-ce78-28460c995d85"
      },
      "execution_count": 12,
      "outputs": [
        {
          "output_type": "display_data",
          "data": {
            "text/plain": [
              "<Figure size 432x288 with 1 Axes>"
            ],
            "image/png": "[encoded data removed]"
          },
          "metadata": {
            "needs_background": "light"
          }
        }
      ]
    },
    {
      "cell_type": "code",
      "source": [
        "net = LinearNet()\n",
        "net_loss = nn.loss.MSELoss()"
      ],
      "metadata": {
        "id": "fDdrKw9iDMdU"
      },
      "execution_count": 13,
      "outputs": []
    },
    {
      "cell_type": "code",
      "source": [
        "opt = nn.Momentum(net.trainable_params(), learning_rate=0.005, momentum=0.9)"
      ],
      "metadata": {
        "id": "Q70m0PD9DONw"
      },
      "execution_count": 14,
      "outputs": []
    },
    {
      "cell_type": "code",
      "source": [
        "from mindspore import Model\n",
        "\n",
        "model = Model(net, net_loss, opt)\n",
        "\n",
        "import matplotlib.pyplot as plt\n",
        "import time\n",
        "\n",
        "def plot_model_and_datasets(net, eval_data):\n",
        "    weight = net.trainable_params()[0]\n",
        "    bias = net.trainable_params()[1]\n",
        "    x = np.arange(-10, 10, 0.1)\n",
        "    y = x * Tensor(weight).asnumpy()[0][0] + Tensor(bias).asnumpy()[0]\n",
        "    x1, y1 = zip(*eval_data)\n",
        "    x_target = x\n",
        "    y_target = x_target * 2 + 3\n",
        "\n",
        "    plt.axis([-11, 11, -20, 25])\n",
        "    plt.scatter(x1, y1, color=\"red\", s=5)\n",
        "    plt.plot(x, y, color=\"blue\")\n",
        "    plt.plot(x_target, y_target, color=\"green\")\n",
        "    plt.show()"
      ],
      "metadata": {
        "id": "-nrUDjkgDQXr"
      },
      "execution_count": 15,
      "outputs": []
    },
    {
      "cell_type": "code",
      "source": [
        "from IPython import display\n",
        "from mindspore.train.callback import Callback\n",
        "\n",
        "class ImageShowCallback(Callback):\n",
        "    def __init__(self, net, eval_data):\n",
        "        self.net = net\n",
        "        self.eval_data = eval_data\n",
        "\n",
        "    def step_end(self, run_context):\n",
        "        plot_model_and_datasets(self.net, self.eval_data)\n",
        "        display.clear_output(wait=True)"
      ],
      "metadata": {
        "id": "FvmXvCeVDXKy"
      },
      "execution_count": 16,
      "outputs": []
    },
    {
      "cell_type": "code",
      "source": [
        "from mindspore.train.callback import SummaryCollector\n",
        "from mindspore.profiler import Profiler\n",
        "profiler = Profiler(output_path = './summary_dir/profiler_data')\n",
        "\n",
        "epoch = 1\n",
        "imageshow_cb = ImageShowCallback(net, eval_data)\n",
        "summary_collector = SummaryCollector(summary_dir='./summary_dir', collect_freq=1)\n",
        "model.train(epoch, ds_train, callbacks=[imageshow_cb, summary_collector], dataset_sink_mode=False)\n",
        "\n",
        "profiler.analyse()\n",
        "\n",
        "plot_model_and_datasets(net, eval_data)\n",
        "for param in net.trainable_params():\n",
        "    print(param, param.asnumpy())"
      ],
      "metadata": {
        "colab": {
          "base_uri": "https://localhost:8080/",
          "height": 304
        },
        "id": "mtaT8nqaDZlC",
        "outputId": "fb841a68-52f7-4436-81e1-ad3744e3ec20"
      },
      "execution_count": 17,
      "outputs": [
        {
          "output_type": "display_data",
          "data": {
            "text/plain": [
              "<Figure size 432x288 with 1 Axes>"
            ],
            "image/png": "[encoded data removed]"
          },
          "metadata": {
            "needs_background": "light"
          }
        },
        {
          "output_type": "stream",
          "name": "stdout",
          "text": [
            "Parameter (name=fc.weight, shape=(1, 1), dtype=Float32, requires_grad=True) [[2.0107012]]\n",
            "Parameter (name=fc.bias, shape=(1,), dtype=Float32, requires_grad=True) [3.0598974]\n"
          ]
        }
      ]
    }
  ]
}